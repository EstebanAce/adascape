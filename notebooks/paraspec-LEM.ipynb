{
 "cells": [
  {
   "cell_type": "markdown",
   "metadata": {},
   "source": [
    "# Run the speciation model with fastscape"
   ]
  },
  {
   "cell_type": "code",
   "execution_count": 2,
   "metadata": {},
   "outputs": [],
   "source": [
    "import numpy as np\n",
    "import pandas as pd\n",
    "import xsimlab as xs\n",
    "import matplotlib.pyplot as plt\n",
    "\n",
    "from fastscape.models import basic_model\n",
    "from fastscape.processes import MultipleFlowRouter\n",
    "\n",
    "import os\n",
    "import sys\n",
    "module_path = os.path.abspath(os.path.join('..'))\n",
    "if module_path not in sys.path:\n",
    "    sys.path.append(module_path)\n",
    "    \n",
    "from paraspec.fastscape_ext import IR12Speciation, DD03Speciation, CompoundEnvironment, ElevationEnvField"
   ]
  },
  {
   "cell_type": "markdown",
   "metadata": {},
   "source": [
    "## Speciation without competition in an evolving landscape"
   ]
  },
  {
   "cell_type": "code",
   "execution_count": 3,
   "metadata": {},
   "outputs": [
    {
     "data": {
      "text/plain": [
       "<xsimlab.Model (18 processes, 24 inputs)>\n",
       "grid\n",
       "    shape               [in] ('shape_yx',) nb. of grid nodes in (y, x)\n",
       "    length              [in] ('shape_yx',) total grid length in (y, x)\n",
       "boundary\n",
       "    status              [in] () or ('border',) node status at borders\n",
       "fs_context\n",
       "uplift\n",
       "    rate                [in] () or ('y', 'x') uplift rate\n",
       "tectonics\n",
       "init_topography\n",
       "    seed                [in] random seed\n",
       "surf2erode\n",
       "diffusion\n",
       "    diffusivity         [in] () or ('y', 'x') diffusivity (transpor...\n",
       "init_erosion\n",
       "flow\n",
       "    slope_exp           [in] () or ('y', 'x') MFD partioner slope e...\n",
       "drainage\n",
       "spl\n",
       "    k_coef              [in] () or ('y', 'x') bedrock channel incis...\n",
       "    area_exp            [in] drainage area exponent\n",
       "    slope_exp           [in] slope exponent\n",
       "erosion\n",
       "vmotion\n",
       "topography\n",
       "terrain\n",
       "life_env\n",
       "life\n",
       "    init_abundance      [in] initial number of individuals\n",
       "    init_min_trait      [in] ('trait',) initial min trait value\n",
       "    init_max_trait      [in] ('trait',) initial max trait value\n",
       "    min_env             [in] ('field',) Minimum value for the envir...\n",
       "    max_env             [in] ('field',) Maximum value for the envir...\n",
       "    slope_trait_env     [in] ('field',) slope of the linear relatio...\n",
       "    random_seed         [in] random number generator seed\n",
       "    rescale_rates       [in] whether to rescale rates\n",
       "    nb_radius           [in] fixed neighborhood radius\n",
       "    car_cap             [in] carrying capacity within a neighborhood\n",
       "    sigma_mov           [in] controls dispersal magnitude\n",
       "    sigma_mut           [in] controls mutation magnitude\n",
       "    sigma_env_trait     [in] controls strength abiotic filtering\n",
       "    mut_prob            [in] mutation probability"
      ]
     },
     "execution_count": 3,
     "metadata": {},
     "output_type": "execute_result"
    }
   ],
   "source": [
    "model = basic_model.update_processes({\n",
    "    'life_env': CompoundEnvironment,\n",
    "    'life': IR12Speciation,\n",
    "    'flow': MultipleFlowRouter\n",
    "})\n",
    "\n",
    "model"
   ]
  },
  {
   "cell_type": "code",
   "execution_count": 17,
   "metadata": {},
   "outputs": [
    {
     "data": {
      "text/plain": [
       "<SurfaceTopography 'topography' (xsimlab process)>\n",
       "Variables:\n",
       "    elevation      [inout] ('y', 'x') surface topography elevation\n",
       "    motion_upward     [in] <--- vmotion.surface_upward\n",
       "Simulation stages:\n",
       "    finalize_step"
      ]
     },
     "execution_count": 17,
     "metadata": {},
     "output_type": "execute_result"
    }
   ],
   "source": [
    "model.topography"
   ]
  },
  {
   "cell_type": "code",
   "execution_count": 16,
   "metadata": {},
   "outputs": [
    {
     "ename": "KeyError",
     "evalue": "\"('life_env', 'field_arrays') is/are not valid key(s) for input variables in model <xsimlab.Model (18 processes, 24 inputs)>\\ngrid\\n    shape               [in] ('shape_yx',) nb. of grid nodes in (y, x)\\n    length              [in] ('shape_yx',) total grid length in (y, x)\\nboundary\\n    status              [in] () or ('border',) node status at borders\\nfs_context\\nuplift\\n    rate                [in] () or ('y', 'x') uplift rate\\ntectonics\\ninit_topography\\n    seed                [in] random seed\\nsurf2erode\\ndiffusion\\n    diffusivity         [in] () or ('y', 'x') diffusivity (transpor...\\ninit_erosion\\nflow\\n    slope_exp           [in] () or ('y', 'x') MFD partioner slope e...\\ndrainage\\nspl\\n    k_coef              [in] () or ('y', 'x') bedrock channel incis...\\n    area_exp            [in] drainage area exponent\\n    slope_exp           [in] slope exponent\\nerosion\\nvmotion\\ntopography\\nterrain\\nlife_env\\nlife\\n    init_abundance      [in] initial number of individuals\\n    init_min_trait      [in] ('trait',) initial min trait value\\n    init_max_trait      [in] ('trait',) initial max trait value\\n    min_env             [in] ('field',) Minimum value for the envir...\\n    max_env             [in] ('field',) Maximum value for the envir...\\n    slope_trait_env     [in] ('field',) slope of the linear relatio...\\n    random_seed         [in] random number generator seed\\n    rescale_rates       [in] whether to rescale rates\\n    nb_radius           [in] fixed neighborhood radius\\n    car_cap             [in] carrying capacity within a neighborhood\\n    sigma_mov           [in] controls dispersal magnitude\\n    sigma_mut           [in] controls mutation magnitude\\n    sigma_env_trait     [in] controls strength abiotic filtering\\n    mut_prob            [in] mutation probability\\n\"",
     "output_type": "error",
     "traceback": [
      "\u001b[0;31m---------------------------------------------------------------------------\u001b[0m",
      "\u001b[0;31mKeyError\u001b[0m                                  Traceback (most recent call last)",
      "\u001b[0;32m/var/folders/m4/n1rzqj691m7g9256t28r0dg00000gq/T/ipykernel_36674/252732657.py\u001b[0m in \u001b[0;36m<module>\u001b[0;34m\u001b[0m\n\u001b[0;32m----> 1\u001b[0;31m in_ds = xs.create_setup(\n\u001b[0m\u001b[1;32m      2\u001b[0m     \u001b[0mmodel\u001b[0m\u001b[0;34m=\u001b[0m\u001b[0mmodel\u001b[0m\u001b[0;34m,\u001b[0m\u001b[0;34m\u001b[0m\u001b[0;34m\u001b[0m\u001b[0m\n\u001b[1;32m      3\u001b[0m     clocks={\n\u001b[1;32m      4\u001b[0m         \u001b[0;34m'time'\u001b[0m\u001b[0;34m:\u001b[0m \u001b[0mnp\u001b[0m\u001b[0;34m.\u001b[0m\u001b[0mlinspace\u001b[0m\u001b[0;34m(\u001b[0m\u001b[0;36m0.\u001b[0m\u001b[0;34m,\u001b[0m \u001b[0;36m1e6\u001b[0m\u001b[0;34m,\u001b[0m \u001b[0;36m1001\u001b[0m\u001b[0;34m)\u001b[0m\u001b[0;34m,\u001b[0m\u001b[0;34m\u001b[0m\u001b[0;34m\u001b[0m\u001b[0m\n\u001b[1;32m      5\u001b[0m         \u001b[0;34m'out'\u001b[0m\u001b[0;34m:\u001b[0m \u001b[0mnp\u001b[0m\u001b[0;34m.\u001b[0m\u001b[0mlinspace\u001b[0m\u001b[0;34m(\u001b[0m\u001b[0;36m0.\u001b[0m\u001b[0;34m,\u001b[0m \u001b[0;36m1e6\u001b[0m\u001b[0;34m,\u001b[0m \u001b[0;36m101\u001b[0m\u001b[0;34m)\u001b[0m\u001b[0;34m\u001b[0m\u001b[0;34m\u001b[0m\u001b[0m\n",
      "\u001b[0;32m~/opt/anaconda3/envs/fastscape_speciation_dev/lib/python3.8/site-packages/xsimlab/xr_accessor.py\u001b[0m in \u001b[0;36mcreate_setup\u001b[0;34m(model, clocks, master_clock, input_vars, output_vars, fill_default)\u001b[0m\n\u001b[1;32m    913\u001b[0m \u001b[0;34m\u001b[0m\u001b[0m\n\u001b[1;32m    914\u001b[0m     ds = (\n\u001b[0;32m--> 915\u001b[0;31m         \u001b[0mDataset\u001b[0m\u001b[0;34m(\u001b[0m\u001b[0;34m)\u001b[0m\u001b[0;34m\u001b[0m\u001b[0;34m\u001b[0m\u001b[0m\n\u001b[0m\u001b[1;32m    916\u001b[0m         \u001b[0;34m.\u001b[0m\u001b[0mxsimlab\u001b[0m\u001b[0;34m.\u001b[0m\u001b[0mupdate_clocks\u001b[0m\u001b[0;34m(\u001b[0m\u001b[0mmodel\u001b[0m\u001b[0;34m=\u001b[0m\u001b[0mmodel\u001b[0m\u001b[0;34m,\u001b[0m \u001b[0mclocks\u001b[0m\u001b[0;34m=\u001b[0m\u001b[0mclocks\u001b[0m\u001b[0;34m,\u001b[0m \u001b[0mmaster_clock\u001b[0m\u001b[0;34m=\u001b[0m\u001b[0mmaster_clock\u001b[0m\u001b[0;34m)\u001b[0m\u001b[0;34m\u001b[0m\u001b[0;34m\u001b[0m\u001b[0m\n\u001b[1;32m    917\u001b[0m         \u001b[0;34m.\u001b[0m\u001b[0mpipe\u001b[0m\u001b[0;34m(\u001b[0m\u001b[0mmaybe_fill_default\u001b[0m\u001b[0;34m)\u001b[0m\u001b[0;34m\u001b[0m\u001b[0;34m\u001b[0m\u001b[0m\n",
      "\u001b[0;32m~/opt/anaconda3/envs/fastscape_speciation_dev/lib/python3.8/site-packages/xsimlab/xr_accessor.py\u001b[0m in \u001b[0;36mupdate_vars\u001b[0;34m(self, model, input_vars, output_vars)\u001b[0m\n\u001b[1;32m    577\u001b[0m \u001b[0;34m\u001b[0m\u001b[0m\n\u001b[1;32m    578\u001b[0m         \u001b[0;32mif\u001b[0m \u001b[0minput_vars\u001b[0m \u001b[0;32mis\u001b[0m \u001b[0;32mnot\u001b[0m \u001b[0;32mNone\u001b[0m\u001b[0;34m:\u001b[0m\u001b[0;34m\u001b[0m\u001b[0;34m\u001b[0m\u001b[0m\n\u001b[0;32m--> 579\u001b[0;31m             \u001b[0mds\u001b[0m\u001b[0;34m.\u001b[0m\u001b[0mxsimlab\u001b[0m\u001b[0;34m.\u001b[0m\u001b[0m_set_input_vars\u001b[0m\u001b[0;34m(\u001b[0m\u001b[0mmodel\u001b[0m\u001b[0;34m,\u001b[0m \u001b[0m_flatten_inputs\u001b[0m\u001b[0;34m(\u001b[0m\u001b[0minput_vars\u001b[0m\u001b[0;34m)\u001b[0m\u001b[0;34m)\u001b[0m\u001b[0;34m\u001b[0m\u001b[0;34m\u001b[0m\u001b[0m\n\u001b[0m\u001b[1;32m    580\u001b[0m \u001b[0;34m\u001b[0m\u001b[0m\n\u001b[1;32m    581\u001b[0m         \u001b[0;32mif\u001b[0m \u001b[0moutput_vars\u001b[0m \u001b[0;32mis\u001b[0m \u001b[0;32mnot\u001b[0m \u001b[0;32mNone\u001b[0m\u001b[0;34m:\u001b[0m\u001b[0;34m\u001b[0m\u001b[0;34m\u001b[0m\u001b[0m\n",
      "\u001b[0;32m~/opt/anaconda3/envs/fastscape_speciation_dev/lib/python3.8/site-packages/xsimlab/xr_accessor.py\u001b[0m in \u001b[0;36m_set_input_vars\u001b[0;34m(self, model, input_vars)\u001b[0m\n\u001b[1;32m    293\u001b[0m \u001b[0;34m\u001b[0m\u001b[0m\n\u001b[1;32m    294\u001b[0m         \u001b[0;32mif\u001b[0m \u001b[0minvalid_inputs\u001b[0m\u001b[0;34m:\u001b[0m\u001b[0;34m\u001b[0m\u001b[0;34m\u001b[0m\u001b[0m\n\u001b[0;32m--> 295\u001b[0;31m             raise KeyError(\n\u001b[0m\u001b[1;32m    296\u001b[0m                 \u001b[0;34m\", \"\u001b[0m\u001b[0;34m.\u001b[0m\u001b[0mjoin\u001b[0m\u001b[0;34m(\u001b[0m\u001b[0;34m[\u001b[0m\u001b[0mstr\u001b[0m\u001b[0;34m(\u001b[0m\u001b[0mk\u001b[0m\u001b[0;34m)\u001b[0m \u001b[0;32mfor\u001b[0m \u001b[0mk\u001b[0m \u001b[0;32min\u001b[0m \u001b[0minvalid_inputs\u001b[0m\u001b[0;34m]\u001b[0m\u001b[0;34m)\u001b[0m\u001b[0;34m\u001b[0m\u001b[0;34m\u001b[0m\u001b[0m\n\u001b[1;32m    297\u001b[0m                 \u001b[0;34m+\u001b[0m \u001b[0;34mf\" is/are not valid key(s) for input variables in model {model}\"\u001b[0m\u001b[0;34m,\u001b[0m\u001b[0;34m\u001b[0m\u001b[0;34m\u001b[0m\u001b[0m\n",
      "\u001b[0;31mKeyError\u001b[0m: \"('life_env', 'field_arrays') is/are not valid key(s) for input variables in model <xsimlab.Model (18 processes, 24 inputs)>\\ngrid\\n    shape               [in] ('shape_yx',) nb. of grid nodes in (y, x)\\n    length              [in] ('shape_yx',) total grid length in (y, x)\\nboundary\\n    status              [in] () or ('border',) node status at borders\\nfs_context\\nuplift\\n    rate                [in] () or ('y', 'x') uplift rate\\ntectonics\\ninit_topography\\n    seed                [in] random seed\\nsurf2erode\\ndiffusion\\n    diffusivity         [in] () or ('y', 'x') diffusivity (transpor...\\ninit_erosion\\nflow\\n    slope_exp           [in] () or ('y', 'x') MFD partioner slope e...\\ndrainage\\nspl\\n    k_coef              [in] () or ('y', 'x') bedrock channel incis...\\n    area_exp            [in] drainage area exponent\\n    slope_exp           [in] slope exponent\\nerosion\\nvmotion\\ntopography\\nterrain\\nlife_env\\nlife\\n    init_abundance      [in] initial number of individuals\\n    init_min_trait      [in] ('trait',) initial min trait value\\n    init_max_trait      [in] ('trait',) initial max trait value\\n    min_env             [in] ('field',) Minimum value for the envir...\\n    max_env             [in] ('field',) Maximum value for the envir...\\n    slope_trait_env     [in] ('field',) slope of the linear relatio...\\n    random_seed         [in] random number generator seed\\n    rescale_rates       [in] whether to rescale rates\\n    nb_radius           [in] fixed neighborhood radius\\n    car_cap             [in] carrying capacity within a neighborhood\\n    sigma_mov           [in] controls dispersal magnitude\\n    sigma_mut           [in] controls mutation magnitude\\n    sigma_env_trait     [in] controls strength abiotic filtering\\n    mut_prob            [in] mutation probability\\n\""
     ]
    }
   ],
   "source": [
    "in_ds = xs.create_setup(\n",
    "    model=model,\n",
    "    clocks={\n",
    "        'time': np.linspace(0., 1e6, 1001),\n",
    "        'out': np.linspace(0., 1e6, 101)\n",
    "    },\n",
    "    master_clock='time',\n",
    "    input_vars={\n",
    "        'grid__shape': [201, 201],\n",
    "        'grid__length': [2e4, 2e4],\n",
    "        'boundary__status': ['looped', 'looped', 'fixed_value', 'fixed_value'],\n",
    "        'uplift__rate': 1e-3,\n",
    "        'flow__slope_exp': 1.,\n",
    "        'spl__k_coef': 1e-4,\n",
    "        'diffusion__diffusivity': 1e-3,\n",
    "        'life_env':{'env_fields':ElevationEnvField},\n",
    "        'life': {\n",
    "            'init_abundance': 100,\n",
    "            'init_min_trait': [0.5], \n",
    "            'init_max_trait': [0.5], \n",
    "            'min_env': [0],\n",
    "            'max_env': [400],\n",
    "            'nb_radius': 2e3,\n",
    "            'car_cap': 25,\n",
    "            'sigma_mov': 100.,\n",
    "            'mut_prob': 0.05,\n",
    "            'sigma_mut': 0.05, \n",
    "            'sigma_env_trait': 0.3, \n",
    "            'random_seed': 1234,\n",
    "            'rescale_rates':False,\n",
    "        }\n",
    "    },\n",
    "    output_vars={\n",
    "        'topography__elevation': 'out',\n",
    "        'drainage__area': 'out',\n",
    "        'life__x': 'out',\n",
    "        'life__y': 'out',\n",
    "        'life__trait': 'out',\n",
    "        'life__parent': 'out',\n",
    "        'life__id': 'out'\n",
    "    }\n",
    ")"
   ]
  },
  {
   "cell_type": "code",
   "execution_count": 15,
   "metadata": {},
   "outputs": [
    {
     "data": {
      "application/vnd.jupyter.widget-view+json": {
       "model_id": "b8b0263f2f8d4bd9a9633ab4d443b817",
       "version_major": 2,
       "version_minor": 0
      },
      "text/plain": [
       "             0% | initialize "
      ]
     },
     "metadata": {},
     "output_type": "display_data"
    },
    {
     "name": "stderr",
     "output_type": "stream",
     "text": [
      "/Users/acevedo/opt/anaconda3/envs/fastscape_speciation_dev/lib/python3.8/site-packages/xsimlab/process.py:530: FutureWarning: arrays to stack must be passed as a \"sequence\" type such as list or tuple. Support for non-sequence iterables such as generators is deprecated as of NumPy 1.16 and will raise an error in the future.\n",
      "  signal_out = executor.execute(p_obj, runtime_context, state=state)\n"
     ]
    },
    {
     "ename": "ValueError",
     "evalue": "need at least one array to stack",
     "output_type": "error",
     "traceback": [
      "\u001b[0;31m---------------------------------------------------------------------------\u001b[0m",
      "\u001b[0;31mValueError\u001b[0m                                Traceback (most recent call last)",
      "\u001b[0;32m/var/folders/m4/n1rzqj691m7g9256t28r0dg00000gq/T/ipykernel_36674/2296248377.py\u001b[0m in \u001b[0;36m<module>\u001b[0;34m\u001b[0m\n\u001b[1;32m      1\u001b[0m \u001b[0;32mwith\u001b[0m \u001b[0mxs\u001b[0m\u001b[0;34m.\u001b[0m\u001b[0mmonitoring\u001b[0m\u001b[0;34m.\u001b[0m\u001b[0mProgressBar\u001b[0m\u001b[0;34m(\u001b[0m\u001b[0;34m)\u001b[0m\u001b[0;34m:\u001b[0m\u001b[0;34m\u001b[0m\u001b[0;34m\u001b[0m\u001b[0m\n\u001b[0;32m----> 2\u001b[0;31m     \u001b[0mout_ds\u001b[0m \u001b[0;34m=\u001b[0m \u001b[0min_ds\u001b[0m\u001b[0;34m.\u001b[0m\u001b[0mxsimlab\u001b[0m\u001b[0;34m.\u001b[0m\u001b[0mrun\u001b[0m\u001b[0;34m(\u001b[0m\u001b[0mmodel\u001b[0m\u001b[0;34m=\u001b[0m\u001b[0mmodel\u001b[0m\u001b[0;34m)\u001b[0m\u001b[0;34m\u001b[0m\u001b[0;34m\u001b[0m\u001b[0m\n\u001b[0m",
      "\u001b[0;32m~/opt/anaconda3/envs/fastscape_speciation_dev/lib/python3.8/site-packages/xsimlab/xr_accessor.py\u001b[0m in \u001b[0;36mrun\u001b[0;34m(self, model, batch_dim, check_dims, validate, store, encoding, decoding, hooks, parallel, scheduler, safe_mode)\u001b[0m\n\u001b[1;32m    821\u001b[0m         )\n\u001b[1;32m    822\u001b[0m \u001b[0;34m\u001b[0m\u001b[0m\n\u001b[0;32m--> 823\u001b[0;31m         \u001b[0mdriver\u001b[0m\u001b[0;34m.\u001b[0m\u001b[0mrun_model\u001b[0m\u001b[0;34m(\u001b[0m\u001b[0;34m)\u001b[0m\u001b[0;34m\u001b[0m\u001b[0;34m\u001b[0m\u001b[0m\n\u001b[0m\u001b[1;32m    824\u001b[0m \u001b[0;34m\u001b[0m\u001b[0m\n\u001b[1;32m    825\u001b[0m         \u001b[0;32mreturn\u001b[0m \u001b[0mdriver\u001b[0m\u001b[0;34m.\u001b[0m\u001b[0mget_results\u001b[0m\u001b[0;34m(\u001b[0m\u001b[0;34m)\u001b[0m\u001b[0;34m\u001b[0m\u001b[0;34m\u001b[0m\u001b[0m\n",
      "\u001b[0;32m~/opt/anaconda3/envs/fastscape_speciation_dev/lib/python3.8/site-packages/xsimlab/drivers.py\u001b[0m in \u001b[0;36mrun_model\u001b[0;34m(self)\u001b[0m\n\u001b[1;32m    470\u001b[0m \u001b[0;34m\u001b[0m\u001b[0m\n\u001b[1;32m    471\u001b[0m         \u001b[0;32mif\u001b[0m \u001b[0mself\u001b[0m\u001b[0;34m.\u001b[0m\u001b[0mbatch_dim\u001b[0m \u001b[0;32mis\u001b[0m \u001b[0;32mNone\u001b[0m\u001b[0;34m:\u001b[0m\u001b[0;34m\u001b[0m\u001b[0;34m\u001b[0m\u001b[0m\n\u001b[0;32m--> 472\u001b[0;31m             _run(\n\u001b[0m\u001b[1;32m    473\u001b[0m                 \u001b[0mds_in\u001b[0m\u001b[0;34m,\u001b[0m\u001b[0;34m\u001b[0m\u001b[0;34m\u001b[0m\u001b[0m\n\u001b[1;32m    474\u001b[0m                 \u001b[0mself\u001b[0m\u001b[0;34m.\u001b[0m\u001b[0mmodel\u001b[0m\u001b[0;34m,\u001b[0m\u001b[0;34m\u001b[0m\u001b[0;34m\u001b[0m\u001b[0m\n",
      "\u001b[0;32m~/opt/anaconda3/envs/fastscape_speciation_dev/lib/python3.8/site-packages/xsimlab/drivers.py\u001b[0m in \u001b[0;36m_run\u001b[0;34m(dataset, model, store, hooks, validate, batch, batch_size, parallel, scheduler)\u001b[0m\n\u001b[1;32m    334\u001b[0m \u001b[0;34m\u001b[0m\u001b[0m\n\u001b[1;32m    335\u001b[0m     \u001b[0;32mtry\u001b[0m\u001b[0;34m:\u001b[0m\u001b[0;34m\u001b[0m\u001b[0;34m\u001b[0m\u001b[0m\n\u001b[0;32m--> 336\u001b[0;31m         \u001b[0mmodel\u001b[0m\u001b[0;34m.\u001b[0m\u001b[0mexecute\u001b[0m\u001b[0;34m(\u001b[0m\u001b[0;34m\"initialize\"\u001b[0m\u001b[0;34m,\u001b[0m \u001b[0mrt_context\u001b[0m\u001b[0;34m,\u001b[0m \u001b[0;34m**\u001b[0m\u001b[0mexecute_kwargs\u001b[0m\u001b[0;34m)\u001b[0m\u001b[0;34m\u001b[0m\u001b[0;34m\u001b[0m\u001b[0m\n\u001b[0m\u001b[1;32m    337\u001b[0m \u001b[0;34m\u001b[0m\u001b[0m\n\u001b[1;32m    338\u001b[0m         \u001b[0;32mfor\u001b[0m \u001b[0mstep\u001b[0m\u001b[0;34m,\u001b[0m \u001b[0;34m(\u001b[0m\u001b[0m_\u001b[0m\u001b[0;34m,\u001b[0m \u001b[0mds_step\u001b[0m\u001b[0;34m)\u001b[0m \u001b[0;32min\u001b[0m \u001b[0menumerate\u001b[0m\u001b[0;34m(\u001b[0m\u001b[0mds_gby_steps\u001b[0m\u001b[0;34m)\u001b[0m\u001b[0;34m:\u001b[0m\u001b[0;34m\u001b[0m\u001b[0;34m\u001b[0m\u001b[0m\n",
      "\u001b[0;32m~/opt/anaconda3/envs/fastscape_speciation_dev/lib/python3.8/site-packages/xsimlab/model.py\u001b[0m in \u001b[0;36mexecute\u001b[0;34m(self, stage, runtime_context, hooks, validate, parallel, scheduler)\u001b[0m\n\u001b[1;32m   1021\u001b[0m         \u001b[0;32melse\u001b[0m\u001b[0;34m:\u001b[0m\u001b[0;34m\u001b[0m\u001b[0;34m\u001b[0m\u001b[0m\n\u001b[1;32m   1022\u001b[0m             \u001b[0;32mfor\u001b[0m \u001b[0mp_obj\u001b[0m \u001b[0;32min\u001b[0m \u001b[0mself\u001b[0m\u001b[0;34m.\u001b[0m\u001b[0m_processes\u001b[0m\u001b[0;34m.\u001b[0m\u001b[0mvalues\u001b[0m\u001b[0;34m(\u001b[0m\u001b[0;34m)\u001b[0m\u001b[0;34m:\u001b[0m\u001b[0;34m\u001b[0m\u001b[0;34m\u001b[0m\u001b[0m\n\u001b[0;32m-> 1023\u001b[0;31m                 \u001b[0m_\u001b[0m\u001b[0;34m,\u001b[0m \u001b[0;34m(\u001b[0m\u001b[0m_\u001b[0m\u001b[0;34m,\u001b[0m \u001b[0msignal_process\u001b[0m\u001b[0;34m)\u001b[0m \u001b[0;34m=\u001b[0m \u001b[0mself\u001b[0m\u001b[0;34m.\u001b[0m\u001b[0m_execute_process\u001b[0m\u001b[0;34m(\u001b[0m\u001b[0mp_obj\u001b[0m\u001b[0;34m,\u001b[0m \u001b[0;34m*\u001b[0m\u001b[0mexecute_args\u001b[0m\u001b[0;34m)\u001b[0m\u001b[0;34m\u001b[0m\u001b[0;34m\u001b[0m\u001b[0m\n\u001b[0m\u001b[1;32m   1024\u001b[0m \u001b[0;34m\u001b[0m\u001b[0m\n\u001b[1;32m   1025\u001b[0m                 \u001b[0;32mif\u001b[0m \u001b[0msignal_process\u001b[0m \u001b[0;34m==\u001b[0m \u001b[0mRuntimeSignal\u001b[0m\u001b[0;34m.\u001b[0m\u001b[0mBREAK\u001b[0m\u001b[0;34m:\u001b[0m\u001b[0;34m\u001b[0m\u001b[0;34m\u001b[0m\u001b[0m\n",
      "\u001b[0;32m~/opt/anaconda3/envs/fastscape_speciation_dev/lib/python3.8/site-packages/xsimlab/model.py\u001b[0m in \u001b[0;36m_execute_process\u001b[0;34m(self, p_obj, stage, runtime_context, hooks, validate, state)\u001b[0m\n\u001b[1;32m    840\u001b[0m             \u001b[0;32mreturn\u001b[0m \u001b[0mp_name\u001b[0m\u001b[0;34m,\u001b[0m \u001b[0;34m(\u001b[0m\u001b[0;34m{\u001b[0m\u001b[0;34m}\u001b[0m\u001b[0;34m,\u001b[0m \u001b[0msignal_pre\u001b[0m\u001b[0;34m)\u001b[0m\u001b[0;34m\u001b[0m\u001b[0;34m\u001b[0m\u001b[0m\n\u001b[1;32m    841\u001b[0m \u001b[0;34m\u001b[0m\u001b[0m\n\u001b[0;32m--> 842\u001b[0;31m         state_out, signal_out = executor.execute(\n\u001b[0m\u001b[1;32m    843\u001b[0m             \u001b[0mp_obj\u001b[0m\u001b[0;34m,\u001b[0m \u001b[0mstage\u001b[0m\u001b[0;34m,\u001b[0m \u001b[0mruntime_context\u001b[0m\u001b[0;34m,\u001b[0m \u001b[0mstate\u001b[0m\u001b[0;34m=\u001b[0m\u001b[0mstate\u001b[0m\u001b[0;34m\u001b[0m\u001b[0;34m\u001b[0m\u001b[0m\n\u001b[1;32m    844\u001b[0m         )\n",
      "\u001b[0;32m~/opt/anaconda3/envs/fastscape_speciation_dev/lib/python3.8/site-packages/xsimlab/process.py\u001b[0m in \u001b[0;36mexecute\u001b[0;34m(self, p_obj, stage, runtime_context, state)\u001b[0m\n\u001b[1;32m    528\u001b[0m             \u001b[0;32mreturn\u001b[0m \u001b[0;34m{\u001b[0m\u001b[0;34m}\u001b[0m\u001b[0;34m,\u001b[0m \u001b[0mRuntimeSignal\u001b[0m\u001b[0;34m.\u001b[0m\u001b[0mNONE\u001b[0m\u001b[0;34m\u001b[0m\u001b[0;34m\u001b[0m\u001b[0m\n\u001b[1;32m    529\u001b[0m         \u001b[0;32melse\u001b[0m\u001b[0;34m:\u001b[0m\u001b[0;34m\u001b[0m\u001b[0;34m\u001b[0m\u001b[0m\n\u001b[0;32m--> 530\u001b[0;31m             \u001b[0msignal_out\u001b[0m \u001b[0;34m=\u001b[0m \u001b[0mexecutor\u001b[0m\u001b[0;34m.\u001b[0m\u001b[0mexecute\u001b[0m\u001b[0;34m(\u001b[0m\u001b[0mp_obj\u001b[0m\u001b[0;34m,\u001b[0m \u001b[0mruntime_context\u001b[0m\u001b[0;34m,\u001b[0m \u001b[0mstate\u001b[0m\u001b[0;34m=\u001b[0m\u001b[0mstate\u001b[0m\u001b[0;34m)\u001b[0m\u001b[0;34m\u001b[0m\u001b[0;34m\u001b[0m\u001b[0m\n\u001b[0m\u001b[1;32m    531\u001b[0m \u001b[0;34m\u001b[0m\u001b[0m\n\u001b[1;32m    532\u001b[0m             \u001b[0mskeys\u001b[0m \u001b[0;34m=\u001b[0m \u001b[0;34m[\u001b[0m\u001b[0mp_obj\u001b[0m\u001b[0;34m.\u001b[0m\u001b[0m__xsimlab_state_keys__\u001b[0m\u001b[0;34m[\u001b[0m\u001b[0mk\u001b[0m\u001b[0;34m]\u001b[0m \u001b[0;32mfor\u001b[0m \u001b[0mk\u001b[0m \u001b[0;32min\u001b[0m \u001b[0mself\u001b[0m\u001b[0;34m.\u001b[0m\u001b[0mout_vars\u001b[0m\u001b[0;34m]\u001b[0m\u001b[0;34m\u001b[0m\u001b[0;34m\u001b[0m\u001b[0m\n",
      "\u001b[0;32m~/opt/anaconda3/envs/fastscape_speciation_dev/lib/python3.8/site-packages/xsimlab/process.py\u001b[0m in \u001b[0;36mexecute\u001b[0;34m(self, p_obj, runtime_context, state)\u001b[0m\n\u001b[1;32m    392\u001b[0m         \u001b[0margs\u001b[0m \u001b[0;34m=\u001b[0m \u001b[0;34m[\u001b[0m\u001b[0mruntime_context\u001b[0m\u001b[0;34m[\u001b[0m\u001b[0mk\u001b[0m\u001b[0;34m]\u001b[0m \u001b[0;32mfor\u001b[0m \u001b[0mk\u001b[0m \u001b[0;32min\u001b[0m \u001b[0mself\u001b[0m\u001b[0;34m.\u001b[0m\u001b[0margs\u001b[0m\u001b[0;34m]\u001b[0m\u001b[0;34m\u001b[0m\u001b[0;34m\u001b[0m\u001b[0m\n\u001b[1;32m    393\u001b[0m \u001b[0;34m\u001b[0m\u001b[0m\n\u001b[0;32m--> 394\u001b[0;31m         \u001b[0msignal\u001b[0m \u001b[0;34m=\u001b[0m \u001b[0mself\u001b[0m\u001b[0;34m.\u001b[0m\u001b[0mmeth\u001b[0m\u001b[0;34m(\u001b[0m\u001b[0mp_obj\u001b[0m\u001b[0;34m,\u001b[0m \u001b[0;34m*\u001b[0m\u001b[0margs\u001b[0m\u001b[0;34m)\u001b[0m\u001b[0;34m\u001b[0m\u001b[0;34m\u001b[0m\u001b[0m\n\u001b[0m\u001b[1;32m    395\u001b[0m \u001b[0;34m\u001b[0m\u001b[0m\n\u001b[1;32m    396\u001b[0m         \u001b[0;32mif\u001b[0m \u001b[0msignal\u001b[0m \u001b[0;32mis\u001b[0m \u001b[0;32mNone\u001b[0m\u001b[0;34m:\u001b[0m\u001b[0;34m\u001b[0m\u001b[0;34m\u001b[0m\u001b[0m\n",
      "\u001b[0;32m~/Documents/Projects/EarthEvoDryLimit/parapatric-speciation/paraspec/fastscape_ext.py\u001b[0m in \u001b[0;36minitialize\u001b[0;34m(self)\u001b[0m\n\u001b[1;32m    228\u001b[0m     \u001b[0;32mdef\u001b[0m \u001b[0minitialize\u001b[0m\u001b[0;34m(\u001b[0m\u001b[0mself\u001b[0m\u001b[0;34m)\u001b[0m\u001b[0;34m:\u001b[0m\u001b[0;34m\u001b[0m\u001b[0;34m\u001b[0m\u001b[0m\n\u001b[1;32m    229\u001b[0m         \u001b[0mself\u001b[0m\u001b[0;34m.\u001b[0m\u001b[0mfields\u001b[0m \u001b[0;34m=\u001b[0m \u001b[0mnp\u001b[0m\u001b[0;34m.\u001b[0m\u001b[0marray\u001b[0m\u001b[0;34m(\u001b[0m\u001b[0mself\u001b[0m\u001b[0;34m.\u001b[0m\u001b[0mfield_arrays\u001b[0m\u001b[0;34m.\u001b[0m\u001b[0mkeys\u001b[0m\u001b[0;34m(\u001b[0m\u001b[0;34m)\u001b[0m\u001b[0;34m)\u001b[0m\u001b[0;34m\u001b[0m\u001b[0;34m\u001b[0m\u001b[0m\n\u001b[0;32m--> 230\u001b[0;31m         \u001b[0mself\u001b[0m\u001b[0;34m.\u001b[0m\u001b[0menv_field\u001b[0m \u001b[0;34m=\u001b[0m \u001b[0mnp\u001b[0m\u001b[0;34m.\u001b[0m\u001b[0mstack\u001b[0m\u001b[0;34m(\u001b[0m\u001b[0mself\u001b[0m\u001b[0;34m.\u001b[0m\u001b[0mfield_arrays\u001b[0m\u001b[0;34m.\u001b[0m\u001b[0mvalues\u001b[0m\u001b[0;34m(\u001b[0m\u001b[0;34m)\u001b[0m\u001b[0;34m)\u001b[0m\u001b[0;34m\u001b[0m\u001b[0;34m\u001b[0m\u001b[0m\n\u001b[0m\u001b[1;32m    231\u001b[0m \u001b[0;34m\u001b[0m\u001b[0m\n\u001b[1;32m    232\u001b[0m     \u001b[0;32mdef\u001b[0m \u001b[0mrun_step\u001b[0m\u001b[0;34m(\u001b[0m\u001b[0mself\u001b[0m\u001b[0;34m)\u001b[0m\u001b[0;34m:\u001b[0m\u001b[0;34m\u001b[0m\u001b[0;34m\u001b[0m\u001b[0m\n",
      "\u001b[0;32m<__array_function__ internals>\u001b[0m in \u001b[0;36mstack\u001b[0;34m(*args, **kwargs)\u001b[0m\n",
      "\u001b[0;32m~/opt/anaconda3/envs/fastscape_speciation_dev/lib/python3.8/site-packages/numpy/core/shape_base.py\u001b[0m in \u001b[0;36mstack\u001b[0;34m(arrays, axis, out)\u001b[0m\n\u001b[1;32m    421\u001b[0m     \u001b[0marrays\u001b[0m \u001b[0;34m=\u001b[0m \u001b[0;34m[\u001b[0m\u001b[0masanyarray\u001b[0m\u001b[0;34m(\u001b[0m\u001b[0marr\u001b[0m\u001b[0;34m)\u001b[0m \u001b[0;32mfor\u001b[0m \u001b[0marr\u001b[0m \u001b[0;32min\u001b[0m \u001b[0marrays\u001b[0m\u001b[0;34m]\u001b[0m\u001b[0;34m\u001b[0m\u001b[0;34m\u001b[0m\u001b[0m\n\u001b[1;32m    422\u001b[0m     \u001b[0;32mif\u001b[0m \u001b[0;32mnot\u001b[0m \u001b[0marrays\u001b[0m\u001b[0;34m:\u001b[0m\u001b[0;34m\u001b[0m\u001b[0;34m\u001b[0m\u001b[0m\n\u001b[0;32m--> 423\u001b[0;31m         \u001b[0;32mraise\u001b[0m \u001b[0mValueError\u001b[0m\u001b[0;34m(\u001b[0m\u001b[0;34m'need at least one array to stack'\u001b[0m\u001b[0;34m)\u001b[0m\u001b[0;34m\u001b[0m\u001b[0;34m\u001b[0m\u001b[0m\n\u001b[0m\u001b[1;32m    424\u001b[0m \u001b[0;34m\u001b[0m\u001b[0m\n\u001b[1;32m    425\u001b[0m     \u001b[0mshapes\u001b[0m \u001b[0;34m=\u001b[0m \u001b[0;34m{\u001b[0m\u001b[0marr\u001b[0m\u001b[0;34m.\u001b[0m\u001b[0mshape\u001b[0m \u001b[0;32mfor\u001b[0m \u001b[0marr\u001b[0m \u001b[0;32min\u001b[0m \u001b[0marrays\u001b[0m\u001b[0;34m}\u001b[0m\u001b[0;34m\u001b[0m\u001b[0;34m\u001b[0m\u001b[0m\n",
      "\u001b[0;31mValueError\u001b[0m: need at least one array to stack"
     ]
    }
   ],
   "source": [
    "with xs.monitoring.ProgressBar():\n",
    "    out_ds = in_ds.xsimlab.run(model=model)"
   ]
  },
  {
   "cell_type": "code",
   "execution_count": null,
   "metadata": {},
   "outputs": [],
   "source": [
    "individuals_data = {}\n",
    "for i in range(out_ds.life__trait.shape[2]):\n",
    "    individuals_data['life__trait_'+str(i)] = out_ds.life__trait[:,:,i]\n",
    "out_ds=out_ds.assign(individuals_data)"
   ]
  },
  {
   "cell_type": "code",
   "execution_count": null,
   "metadata": {},
   "outputs": [],
   "source": [
    "df = (\n",
    "    out_ds\n",
    "    # only keep paraspec output variables\n",
    "    .drop_dims([d for d in out_ds.dims if d not in ('out', 'pop')])\n",
    "    .drop_vars(in_ds, errors='ignore')\n",
    "    # convert to a dataframe\n",
    "    # see https://xarray-simlab.readthedocs.io/en/latest/io_storage.html#dynamically-sized-arrays\n",
    "    .stack(fpop=('out', 'pop'))\n",
    "    .dropna('fpop', how='all')\n",
    "    .to_dataframe()\n",
    "    # clean\n",
    "    .rename(columns=lambda name: name.replace('life__', ''))\n",
    "    .reset_index()\n",
    "    .dropna()\n",
    "    .set_index('id', drop=False)\n",
    "    # assign tree-specific extra columns\n",
    "    #.assign(\n",
    "    #    tree_id=lambda df: df.ptree.tree_id,\n",
    "    #    node_type=lambda df: df.ptree.node_type\n",
    "    #)\n",
    ")\n",
    "\n",
    "df"
   ]
  },
  {
   "cell_type": "markdown",
   "metadata": {},
   "source": [
    "## Plot population"
   ]
  },
  {
   "cell_type": "code",
   "execution_count": null,
   "metadata": {},
   "outputs": [],
   "source": [
    "times = np.arange(0, 1e6, 2.5e5)\n",
    "elev_max = out_ds.topography__elevation.max()\n",
    "\n",
    "\n",
    "fg = (out_ds\n",
    "      .sel(out=times)\n",
    "      .topography__elevation.plot(col='out', col_wrap=2, figsize=(13, 10)))\n",
    "\n",
    "\n",
    "for ax, t in zip(fg.axes.ravel(), times):\n",
    "    pop = df[df.out==t]\n",
    "    ax.scatter(pop.x, pop.y, c=pop.trait_0, vmin=0, vmax=1, s=20, edgecolor='w')"
   ]
  },
  {
   "cell_type": "code",
   "execution_count": null,
   "metadata": {},
   "outputs": [],
   "source": [
    "fig2, axs2 = plt.subplots(2, 2, sharex=\"col\", figsize=(12, 6))\n",
    "gs2 = axs2[1, 1].get_gridspec()\n",
    "for ax in axs2[0:, -1]:\n",
    "    ax.remove()\n",
    "axbig = fig2.add_subplot(gs2[0:, -1])\n",
    "axs2[0,0].plot(df.groupby('out').size())\n",
    "h,xedge,yedge,_=axs2[1,0].hist2d(x=df['out'], y=df['trait_0'], \n",
    "                                 range=((0, 1e6), (0, 1)), \n",
    "                                 bins=(100, 100), cmap='bone_r')\n",
    "h,xedge,yedge,_=axbig.hist2d(x=df['trait_0'].loc[df['out']==max(df['out'])], \n",
    "                             y=df['y'].loc[df['out']==max(df['out'])], \n",
    "                                 range=((0, 1), (0, 20000)), \n",
    "                                 bins=(100, 100), cmap='bone_r')\n",
    "axbig.yaxis.set_label_position(\"right\")\n",
    "axbig.yaxis.tick_right()\n",
    "axbig.set_ylabel('Y', weight='bold')\n",
    "axbig.set_xlabel('Trait', weight='bold')\n",
    "axs2[0,0].set_ylabel('Abundance (No. ind)', weight='bold')\n",
    "axs2[1,0].set_ylabel('Trait', weight='bold')\n",
    "axs2[1,0].set_xlabel('Time(years)', weight='bold')"
   ]
  },
  {
   "cell_type": "markdown",
   "metadata": {},
   "source": [
    "## Speciation with competition in an evolving landscape"
   ]
  },
  {
   "cell_type": "code",
   "execution_count": null,
   "metadata": {},
   "outputs": [],
   "source": [
    "model2 = basic_model.update_processes({\n",
    "    'life_env': CoumpoundEnvironment,\n",
    "    'life': DD03Speciation,\n",
    "    'flow': MultipleFlowRouter\n",
    "})\n",
    "model2"
   ]
  },
  {
   "cell_type": "code",
   "execution_count": null,
   "metadata": {},
   "outputs": [],
   "source": [
    "in_ds2 = xs.create_setup(\n",
    "    model=model2,\n",
    "    clocks={\n",
    "        'time': np.linspace(0., 1e6, 1001),\n",
    "        'out': np.linspace(0., 1e6, 101)\n",
    "    },\n",
    "    master_clock='time',\n",
    "    input_vars={\n",
    "        'grid__shape': [201, 201],\n",
    "        'grid__length': [2e4, 2e4],\n",
    "        'boundary__status': ['looped', 'looped', 'fixed_value', 'fixed_value'],\n",
    "        'uplift__rate': 1e-3,\n",
    "        'flow__slope_exp': 1.,\n",
    "        'spl__k_coef': 1e-4,\n",
    "        'diffusion__diffusivity': 1e-3,\n",
    "        'life_env': ['elevation']\n",
    "        'life': {\n",
    "            'init_abundance': 100,\n",
    "            'init_min_trait': [0.5],\n",
    "            'init_max_trait': [0.5],\n",
    "            'min_env': [0],\n",
    "            'max_env': [400],\n",
    "            'birth_rate': 1.,\n",
    "            'movement_rate': 5.,\n",
    "            'car_cap_max': 500.,\n",
    "            'sigma_env_trait': 0.3,\n",
    "            'mut_prob': 0.05,\n",
    "            'sigma_mut': 0.05,\n",
    "            'sigma_mov': 100.,\n",
    "            'sigma_comp_trait': 0.9,\n",
    "            'sigma_comp_dist': 0.1,\n",
    "            'random_seed': 1234,\n",
    "            'rescale_rates': False\n",
    "        }\n",
    "    },\n",
    "    output_vars={\n",
    "        'topography__elevation': 'out',\n",
    "        'drainage__area': 'out',\n",
    "        'life__x': 'out',\n",
    "        'life__y': 'out',\n",
    "        'life__trait': 'out',\n",
    "        'life__parent': 'out',\n",
    "        'life__id': 'out'\n",
    "    }\n",
    ")"
   ]
  },
  {
   "cell_type": "code",
   "execution_count": null,
   "metadata": {},
   "outputs": [],
   "source": [
    "with xs.monitoring.ProgressBar():\n",
    "    out_ds2 = in_ds2.xsimlab.run(model=model2)"
   ]
  },
  {
   "cell_type": "code",
   "execution_count": null,
   "metadata": {},
   "outputs": [],
   "source": [
    "individuals_data2 = {}\n",
    "for i in range(out_ds2.life__trait.shape[2]):\n",
    "    individuals_data2['life__trait_'+str(i)] = out_ds2.life__trait[:,:,i]\n",
    "out_ds2=out_ds2.assign(individuals_data2)"
   ]
  },
  {
   "cell_type": "code",
   "execution_count": null,
   "metadata": {},
   "outputs": [],
   "source": [
    "df2 = (\n",
    "    out_ds2\n",
    "    # only keep paraspec output variables\n",
    "    .drop_dims([d for d in out_ds2.dims if d not in ('out', 'pop')])\n",
    "    .drop_vars(in_ds2, errors='ignore')\n",
    "    # convert to a dataframe\n",
    "    # see https://xarray-simlab.readthedocs.io/en/latest/io_storage.html#dynamically-sized-arrays\n",
    "    .stack(fpop=('out', 'pop'))\n",
    "    .dropna('fpop', how='all')\n",
    "    .to_dataframe()\n",
    "    # clean\n",
    "    .rename(columns=lambda name: name.replace('life__', ''))\n",
    "    .reset_index()\n",
    "    .dropna()\n",
    "    .set_index('id', drop=False)\n",
    "    # assign tree-specific extra columns\n",
    "    #.assign(\n",
    "    #    tree_id=lambda df: df.ptree.tree_id,\n",
    "    #    node_type=lambda df: df.ptree.node_type\n",
    "    #)\n",
    ")\n",
    "\n",
    "\n",
    "df2"
   ]
  },
  {
   "cell_type": "code",
   "execution_count": null,
   "metadata": {},
   "outputs": [],
   "source": [
    "times = np.arange(0, 1e6, 2.5e5)\n",
    "elev_max = out_ds2.topography__elevation.max()\n",
    "\n",
    "\n",
    "fg = (out_ds2\n",
    "      .sel(out=times)\n",
    "      .topography__elevation.plot(col='out', col_wrap=2, figsize=(13, 10)))\n",
    "\n",
    "\n",
    "for ax, t in zip(fg.axes.ravel(), times):\n",
    "    pop = df2[df2.out==t]\n",
    "    ax.scatter(pop.x, pop.y, c=pop.trait_0, vmin=0, vmax=1, s=20, edgecolor='w')"
   ]
  },
  {
   "cell_type": "code",
   "execution_count": null,
   "metadata": {},
   "outputs": [],
   "source": [
    "fig5, axs5 = plt.subplots(2, 2, sharex=\"col\", figsize=(12, 6))\n",
    "gs5 = axs5[1, 1].get_gridspec()\n",
    "for ax in axs5[0:, -1]:\n",
    "    ax.remove()\n",
    "axbig = fig5.add_subplot(gs5[0:, -1])\n",
    "axs5[0,0].plot(df2.groupby('out').size())\n",
    "h,xedge,yedge,_=axs5[1,0].hist2d(x=df2['out'], y=df2['trait_0'], \n",
    "                                 range=((0, 1e6), (0, 1)), \n",
    "                                 bins=(100, 100), cmap='bone_r')\n",
    "h,xedge,yedge,_=axbig.hist2d(x=df2['trait_0'].loc[df2['out']==max(df2['out'])], \n",
    "                             y=df2['y'].loc[df2['out']==max(df2['out'])], \n",
    "                                 range=((0, 1), (0, 20000)), \n",
    "                                 bins=(100, 100), cmap='bone_r')\n",
    "axbig.yaxis.set_label_position(\"right\")\n",
    "axbig.yaxis.tick_right()\n",
    "axbig.set_ylabel('Y', weight='bold')\n",
    "axbig.set_xlabel('Trait', weight='bold')\n",
    "axs5[0,0].set_ylabel('Abundance (No. ind)', weight='bold')\n",
    "axs5[1,0].set_ylabel('Trait', weight='bold')\n",
    "axs5[1,0].set_xlabel('Time(years)', weight='bold')"
   ]
  },
  {
   "cell_type": "code",
   "execution_count": null,
   "metadata": {},
   "outputs": [],
   "source": []
  }
 ],
 "metadata": {
  "kernelspec": {
   "display_name": "fastscape_speciation_dev",
   "language": "python",
   "name": "fastscape_speciation_dev"
  },
  "language_info": {
   "codemirror_mode": {
    "name": "ipython",
    "version": 3
   },
   "file_extension": ".py",
   "mimetype": "text/x-python",
   "name": "python",
   "nbconvert_exporter": "python",
   "pygments_lexer": "ipython3",
   "version": "3.8.12"
  }
 },
 "nbformat": 4,
 "nbformat_minor": 4
}
