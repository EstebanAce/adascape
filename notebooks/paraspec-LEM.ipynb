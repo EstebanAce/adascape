{
 "cells": [
  {
   "cell_type": "markdown",
   "metadata": {},
   "source": [
    "# Run the speciation model with fastscape"
   ]
  },
  {
   "cell_type": "code",
   "execution_count": 1,
   "metadata": {},
   "outputs": [],
   "source": [
    "import numpy as np\n",
    "import pandas as pd\n",
    "import xsimlab as xs\n",
    "import matplotlib.pyplot as plt\n",
    "\n",
    "import networkx as nx\n",
    "from networkx.drawing.nx_agraph import graphviz_layout\n",
    "\n",
    "from fastscape.models import basic_model\n",
    "from fastscape.processes import MultipleFlowRouter\n",
    "\n",
    "import os\n",
    "import sys\n",
    "module_path = os.path.abspath(os.path.join('..'))\n",
    "if module_path not in sys.path:\n",
    "    sys.path.append(module_path)\n",
    "    \n",
    "from paraspec.fastscape_ext import IR12Speciation, IR12EnvironmentElevation"
   ]
  },
  {
   "cell_type": "markdown",
   "metadata": {},
   "source": [
    "## Speciation without competition in an evolving landscape"
   ]
  },
  {
   "cell_type": "code",
   "execution_count": 2,
   "metadata": {},
   "outputs": [
    {
     "data": {
      "text/plain": [
       "<xsimlab.Model (18 processes, 19 inputs)>\n",
       "grid\n",
       "    shape              [in] ('shape_yx',) nb. of grid nodes in (y, x)\n",
       "    length             [in] ('shape_yx',) total grid length in (y, x)\n",
       "boundary\n",
       "    status             [in] () or ('border',) node status at borders\n",
       "fs_context\n",
       "uplift\n",
       "    rate               [in] () or ('y', 'x') uplift rate\n",
       "tectonics\n",
       "init_topography\n",
       "    seed               [in] random seed\n",
       "surf2erode\n",
       "diffusion\n",
       "    diffusivity        [in] () or ('y', 'x') diffusivity (transport...\n",
       "init_erosion\n",
       "flow\n",
       "    slope_exp          [in] () or ('y', 'x') MFD partioner slope ex...\n",
       "drainage\n",
       "spl\n",
       "    k_coef             [in] () or ('y', 'x') bedrock channel incisi...\n",
       "    area_exp           [in] drainage area exponent\n",
       "    slope_exp          [in] slope exponent\n",
       "erosion\n",
       "vmotion\n",
       "topography\n",
       "terrain\n",
       "life_env\n",
       "life\n",
       "    init_size          [in] initial population size\n",
       "    init_min_trait     [in] initial min trait value\n",
       "    init_max_trait     [in] initial max trait value\n",
       "    random_seed        [in] random number generator seed\n",
       "    nb_radius          [in] fixed neighborhood radius\n",
       "    capacity           [in] carrying capacity within a neighborhood\n",
       "    sigma_d            [in] controls dispersal magnitude\n",
       "    sigma_mut          [in] controls mutation magnitude\n",
       "    sigma_w            [in] scales fitness"
      ]
     },
     "execution_count": 2,
     "metadata": {},
     "output_type": "execute_result"
    }
   ],
   "source": [
    "model = basic_model.update_processes({\n",
    "    'life_env': IR12EnvironmentElevation,\n",
    "    'life': IR12Speciation,\n",
    "    'flow': MultipleFlowRouter\n",
    "})\n",
    "\n",
    "model"
   ]
  },
  {
   "cell_type": "code",
   "execution_count": 3,
   "metadata": {},
   "outputs": [],
   "source": [
    "in_ds = xs.create_setup(\n",
    "    model=model,\n",
    "    clocks={\n",
    "        'time': np.linspace(0., 1e6, 1001),\n",
    "        'out': np.linspace(0., 1e6, 101)\n",
    "    },\n",
    "    master_clock='time',\n",
    "    input_vars={\n",
    "        'grid__shape': [201, 201],\n",
    "        'grid__length': [2e4, 2e4],\n",
    "        'boundary__status': ['looped', 'looped', 'fixed_value', 'fixed_value'],\n",
    "        'uplift__rate': 1e-3,\n",
    "        'flow__slope_exp': 1.,\n",
    "        'spl__k_coef': 1e-4,\n",
    "        'diffusion__diffusivity': 1e-3,\n",
    "        'life': {\n",
    "            'init_size': 100,\n",
    "            'init_min_trait': 0,\n",
    "            'init_max_trait': 100,\n",
    "            'nb_radius': 1e3,\n",
    "            'capacity': 15,\n",
    "            'sigma_d': 100.,\n",
    "            'sigma_mut': 25,\n",
    "            'sigma_w': 50,\n",
    "            'random_seed': 1234\n",
    "        }\n",
    "    },\n",
    "    output_vars={\n",
    "        'topography__elevation': 'out',\n",
    "        'drainage__area': 'out',\n",
    "        'life__x': 'out',\n",
    "        'life__y': 'out',\n",
    "        'life__opt_trait': 'out',\n",
    "        'life__trait': 'out',\n",
    "        'life__parent': 'out',\n",
    "        'life__id': 'out'\n",
    "    }\n",
    ")"
   ]
  },
  {
   "cell_type": "code",
   "execution_count": null,
   "metadata": {},
   "outputs": [
    {
     "data": {
      "application/vnd.jupyter.widget-view+json": {
       "model_id": "f3a0f854bb714f7884cd06b73ca15579",
       "version_major": 2,
       "version_minor": 0
      },
      "text/plain": [
       "             0% | initialize "
      ]
     },
     "metadata": {},
     "output_type": "display_data"
    }
   ],
   "source": [
    "with xs.monitoring.ProgressBar():\n",
    "    out_ds = in_ds.xsimlab.run(model=model)"
   ]
  },
  {
   "cell_type": "code",
   "execution_count": null,
   "metadata": {},
   "outputs": [],
   "source": [
    "df = (\n",
    "    out_ds\n",
    "    # only keep paraspec output variables\n",
    "    .drop_dims([d for d in out_ds.dims if d not in ('out', 'pop')])\n",
    "    .drop_vars(in_ds, errors='ignore')\n",
    "    # convert to a dataframe\n",
    "    # see https://xarray-simlab.readthedocs.io/en/latest/io_storage.html#dynamically-sized-arrays\n",
    "    .stack(fpop=('out', 'pop'))\n",
    "    .dropna('fpop', how='all')\n",
    "    .to_dataframe()\n",
    "    # clean\n",
    "    .rename(columns=lambda name: name.replace('life__', ''))\n",
    "    .reset_index()\n",
    "    .dropna()\n",
    "    .set_index('id', drop=False)\n",
    "    # assign tree-specific extra columns\n",
    "    .assign(\n",
    "        tree_id=lambda df: df.ptree.tree_id,\n",
    "        node_type=lambda df: df.ptree.node_type\n",
    "    )\n",
    ")\n",
    "\n",
    "\n",
    "df"
   ]
  },
  {
   "cell_type": "markdown",
   "metadata": {},
   "source": [
    "## Plot population"
   ]
  },
  {
   "cell_type": "code",
   "execution_count": null,
   "metadata": {},
   "outputs": [],
   "source": [
    "times = np.arange(0, 1e6, 2.5e5)\n",
    "elev_max = out_ds.topography__elevation.max()\n",
    "\n",
    "\n",
    "fg = (out_ds\n",
    "      .sel(out=times)\n",
    "      .topography__elevation.plot(col='out', col_wrap=2, figsize=(13, 10)))\n",
    "\n",
    "\n",
    "for ax, t in zip(fg.axes.ravel(), times):\n",
    "    pop = df[df.out==t]\n",
    "    ax.scatter(pop.x, pop.y, c=pop.trait, vmin=0, vmax=elev_max, s=20, edgecolor='w')"
   ]
  },
  {
   "cell_type": "markdown",
   "metadata": {},
   "source": [
    "## Plot subtree "
   ]
  },
  {
   "cell_type": "code",
   "execution_count": null,
   "metadata": {},
   "outputs": [],
   "source": [
    "def plot_tree(G, pos=None, root=None, alpha=0.5, node_size=40,\n",
    "              node_color='trait', cmap=plt.cm.viridis,\n",
    "              edge_color=None, edge_cmap=plt.cm.gray,\n",
    "              vmin=None, vmax=None, prog='dot', ax='none', fig='none'):\n",
    "\n",
    "    if pos is None:\n",
    "        pos = graphviz_layout(G, prog=prog, root=root)\n",
    "    else:\n",
    "        x, y = pos\n",
    "        pos = {k: (v[x], v[y]) for k, v in G.nodes.data()}\n",
    "\n",
    "    node_data = [n.get(node_color) for n in G.nodes.values()]\n",
    "    if vmin is None:\n",
    "        vmin = np.nanmin(node_data)\n",
    "    if vmax is None:\n",
    "        vmax = np.nanmax(node_data)\n",
    "\n",
    "    if edge_color is None:\n",
    "        edge_data = 'k'\n",
    "    else:\n",
    "        edge_data = [e.get(edge_color) for e in G.edges.values()]\n",
    "\n",
    "    if ax=='none':\n",
    "        fig, ax = plt.subplots(figsize=(14, 12))\n",
    "\n",
    "\n",
    "    nx.draw(G, pos=pos, ax=ax, alpha=alpha,\n",
    "            node_size=node_size, node_color=node_data,\n",
    "            cmap=cmap, vmin=vmin, vmax=vmax,\n",
    "            edge_color=edge_data, edge_cmap=edge_cmap)\n",
    "\n",
    "    sm = plt.cm.ScalarMappable(cmap=cmap,\n",
    "                               norm=plt.Normalize(vmin=vmin, vmax=vmax))\n",
    "\n",
    "    sm.set_array([])\n",
    "    \n",
    "    cbar = plt.colorbar(sm, fraction=0.025, pad=0.04)\n",
    "\n",
    "    return fig, ax"
   ]
  },
  {
   "cell_type": "code",
   "execution_count": null,
   "metadata": {},
   "outputs": [],
   "source": [
    "tree_id = df.tree_id.value_counts().idxmax()  # find root with largest tree\n",
    "leaf = df[(df.tree_id==tree_id) & (df.out==df.out.max())].id  # end nodes (leaf) of tree_id\n",
    "\n",
    "# define subtree (dataframe and networkx)\n",
    "df_tree = (\n",
    "    df\n",
    "    .ptree.merge_forest(-1)\n",
    "    .ptree.drop_disconnected_roots()\n",
    "    .ptree.extract_subtree(leaf=list(leaf))\n",
    ")\n",
    "\n",
    "G = df_tree.ptree.to_networkx(node_col='trait')"
   ]
  },
  {
   "cell_type": "code",
   "execution_count": null,
   "metadata": {},
   "outputs": [],
   "source": [
    "plot_tree(G, prog='dot', node_color='trait', node_size=10, cmap=plt.cm.viridis,\n",
    "          vmin=0, vmax=elev_max);"
   ]
  },
  {
   "cell_type": "markdown",
   "metadata": {},
   "source": [
    "## Speciation with competition in an evolving landscape"
   ]
  },
  {
   "cell_type": "code",
   "execution_count": null,
   "metadata": {},
   "outputs": [],
   "source": [
    "from paraspec.fastscape_ext import DD03Speciation, DD03EnvironmentElevation"
   ]
  },
  {
   "cell_type": "code",
   "execution_count": null,
   "metadata": {},
   "outputs": [],
   "source": [
    "model2 = basic_model.update_processes({\n",
    "    'life_env': DD03EnvironmentElevation,\n",
    "    'life': DD03Speciation,\n",
    "    'flow': MultipleFlowRouter\n",
    "})\n",
    "model2"
   ]
  },
  {
   "cell_type": "code",
   "execution_count": null,
   "metadata": {},
   "outputs": [],
   "source": [
    "in_ds2 = xs.create_setup(\n",
    "    model=model2,\n",
    "    clocks={\n",
    "        'time': np.linspace(0., 1e6, 1001),\n",
    "        'out': np.linspace(0., 1e6, 101)\n",
    "    },\n",
    "    master_clock='time',\n",
    "    input_vars={\n",
    "        'grid__shape': [201, 201],\n",
    "        'grid__length': [2e4, 2e4],\n",
    "        'boundary__status': ['looped', 'looped', 'fixed_value', 'fixed_value'],\n",
    "        'uplift__rate': 1e-3,\n",
    "        'flow__slope_exp': 1.,\n",
    "        'spl__k_coef': 1e-4,\n",
    "        'diffusion__diffusivity': 1e-3,\n",
    "        'life': {\n",
    "            'init_size': 100,\n",
    "            'init_min_trait': 0.5,\n",
    "            'init_max_trait': 0.5,\n",
    "            'birth_rate': 1.,\n",
    "            'movement_rate': 5.,\n",
    "            'slope_topt_env': 0.95,\n",
    "            'car_cap_max': 500.,\n",
    "            'sigma_opt_trait': 0.3,\n",
    "            'mut_prob': 0.005,\n",
    "            'sigma_mut': 0.05,\n",
    "            'sigma_mov': 0.12e3,\n",
    "            'sigma_comp_trait': 0.9,\n",
    "            'sigma_comp_dist': 0.19,\n",
    "            'random_seed': 1234\n",
    "        }\n",
    "    },\n",
    "    output_vars={\n",
    "        'topography__elevation': 'out',\n",
    "        'drainage__area': 'out',\n",
    "        'life__x': 'out',\n",
    "        'life__y': 'out',\n",
    "        'life__trait': 'out',\n",
    "        'life__parent': 'out',\n",
    "        'life__id': 'out'\n",
    "    }\n",
    ")"
   ]
  },
  {
   "cell_type": "code",
   "execution_count": null,
   "metadata": {},
   "outputs": [],
   "source": [
    "with xs.monitoring.ProgressBar():\n",
    "    out_ds2 = in_ds2.xsimlab.run(model=model2)"
   ]
  },
  {
   "cell_type": "code",
   "execution_count": null,
   "metadata": {},
   "outputs": [],
   "source": [
    "df2 = (\n",
    "    out_ds2\n",
    "    # only keep paraspec output variables\n",
    "    .drop_dims([d for d in out_ds2.dims if d not in ('out', 'pop')])\n",
    "    .drop_vars(in_ds2, errors='ignore')\n",
    "    # convert to a dataframe\n",
    "    # see https://xarray-simlab.readthedocs.io/en/latest/io_storage.html#dynamically-sized-arrays\n",
    "    .stack(fpop=('out', 'pop'))\n",
    "    .dropna('fpop', how='all')\n",
    "    .to_dataframe()\n",
    "    # clean\n",
    "    .rename(columns=lambda name: name.replace('life__', ''))\n",
    "    .reset_index()\n",
    "    .dropna()\n",
    "    .set_index('id', drop=False)\n",
    "    # assign tree-specific extra columns\n",
    "    #.assign(\n",
    "    #    tree_id=lambda df: df.ptree.tree_id,\n",
    "    #    node_type=lambda df: df.ptree.node_type\n",
    "    #)\n",
    ")\n",
    "\n",
    "\n",
    "df2"
   ]
  },
  {
   "cell_type": "code",
   "execution_count": null,
   "metadata": {},
   "outputs": [],
   "source": [
    "times = np.arange(0, 1e6, 2.5e5)\n",
    "elev_max = out_ds2.topography__elevation.max()\n",
    "\n",
    "\n",
    "fg = (out_ds2\n",
    "      .sel(out=times)\n",
    "      .topography__elevation.plot(col='out', col_wrap=2, figsize=(13, 10)))\n",
    "\n",
    "\n",
    "for ax, t in zip(fg.axes.ravel(), times):\n",
    "    pop = df2[df2.out==t]\n",
    "    ax.scatter(pop.x, pop.y, c=pop.trait, vmin=0, vmax=1, s=20, edgecolor='w')"
   ]
  },
  {
   "cell_type": "code",
   "execution_count": null,
   "metadata": {},
   "outputs": [],
   "source": []
  },
  {
   "cell_type": "code",
   "execution_count": null,
   "metadata": {},
   "outputs": [],
   "source": []
  }
 ],
 "metadata": {
  "kernelspec": {
   "display_name": "Python 3 (ipykernel)",
   "language": "python",
   "name": "python3"
  },
  "language_info": {
   "codemirror_mode": {
    "name": "ipython",
    "version": 3
   },
   "file_extension": ".py",
   "mimetype": "text/x-python",
   "name": "python",
   "nbconvert_exporter": "python",
   "pygments_lexer": "ipython3",
   "version": "3.8.12"
  }
 },
 "nbformat": 4,
 "nbformat_minor": 4
}
