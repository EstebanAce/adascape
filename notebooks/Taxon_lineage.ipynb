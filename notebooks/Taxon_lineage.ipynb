{
 "cells": [
  {
   "cell_type": "markdown",
   "id": "c5e2457b",
   "metadata": {},
   "source": [
    "# Taxon definition and lineage"
   ]
  },
  {
   "cell_type": "code",
   "execution_count": 1,
   "id": "bf7fc274",
   "metadata": {},
   "outputs": [],
   "source": [
    "import numpy as np\n",
    "import pandas as pd\n",
    "import matplotlib.pyplot as plt\n",
    "import toytree\n",
    "import toyplot\n",
    "import scipy.stats as sc\n",
    "\n",
    "import os\n",
    "import sys\n",
    "module_path = os.path.abspath(os.path.join('..'))\n",
    "if module_path not in sys.path:\n",
    "    sys.path.append(module_path)\n",
    "\n",
    "from adascape.base import IR12SpeciationModel, DD03SpeciationModel\n",
    "from adascape.fastscape_ext import FastscapeElevationTrait\n",
    "import pdb"
   ]
  },
  {
   "cell_type": "markdown",
   "id": "aea97428",
   "metadata": {},
   "source": [
    "## Functions to compute and visualize speciation model"
   ]
  },
  {
   "cell_type": "code",
   "execution_count": 2,
   "id": "138b8a1c",
   "metadata": {},
   "outputs": [],
   "source": [
    "def run_model(trait_comp=False, num_gen=100, pop_size = 10, dt=1,\n",
    "             sigma_env_trait=0.3, mut_prob=1.0, sigma_mut=0.05, sigma_mov=5,\n",
    "             random_seed=1234, distance_value=0.1, distance_metric='centroid',\n",
    "              taxon_def='spec_clus',always_direct_parent=True):\n",
    "    length = (250, 250)\n",
    "    spacing = (1, 1)\n",
    "    X, Y = np.meshgrid(*[np.arange(0, l + s, s) for l, s in zip(length, spacing)])\n",
    "    r = np.random.RandomState(0)\n",
    "    environment = X + r.rand(*Y.shape)\n",
    "    trait_01_elev = FastscapeElevationTrait(topo_elevation=environment,\n",
    "                                        init_trait_min=0.5,\n",
    "                                        init_trait_max=0.5,\n",
    "                                        lin_slope=0.95, \n",
    "                                        norm_min=environment.min(), \n",
    "                                        norm_max=environment.max(), \n",
    "                                        random_seed=1234)\n",
    "    trait_01_elev.initialize()\n",
    "    init_trait_funcs =  {\n",
    "    'trait_1': trait_01_elev.init_trait_func,\n",
    "    }\n",
    "    opt_trait_funcs = {\n",
    "    'trait_1': trait_01_elev.opt_trait_func\n",
    "    }\n",
    "    \n",
    "    if trait_comp:\n",
    "        model = DD03SpeciationModel(X, Y, init_trait_funcs, opt_trait_funcs, pop_size,\n",
    "                                    car_cap_max=250, sigma_env_trait=sigma_env_trait, mut_prob=mut_prob, \n",
    "                                    sigma_mut=sigma_mut, sigma_mov=sigma_mov, sigma_comp_trait=sigma_env_trait, \n",
    "                                    sigma_comp_dist=sigma_env_trait, random_seed=random_seed, \n",
    "                                    distance_metric=distance_metric, distance_value=distance_value, \n",
    "                                    taxon_def=taxon_def, always_direct_parent=always_direct_parent)\n",
    "    else:\n",
    "        model = IR12SpeciationModel(X, Y, init_trait_funcs, opt_trait_funcs, pop_size, \n",
    "                                    nb_radius=50, car_cap=25, sigma_env_trait=sigma_env_trait, mut_prob=mut_prob, \n",
    "                                    sigma_mut=sigma_mut, sigma_mov=sigma_mov, random_seed=random_seed, \n",
    "                                    distance_value=distance_value, distance_metric=distance_metric, \n",
    "                                    taxon_def=taxon_def, always_direct_parent=always_direct_parent)\n",
    "\n",
    "    model.initialize()\n",
    "    dfs = []\n",
    "    for step in range(num_gen):\n",
    "        model.evaluate_fitness(dt)\n",
    "        dfs.append(model.to_dataframe())\n",
    "        model.update_individuals(dt)\n",
    "    return pd.concat(dfs).reset_index(drop=True), environment, X"
   ]
  },
  {
   "cell_type": "code",
   "execution_count": 3,
   "id": "c50eaa82",
   "metadata": {},
   "outputs": [],
   "source": [
    "def plot_sol(dtf, elevation, X):\n",
    "    num_gen = dtf.step.unique().size\n",
    "    fig1, axs1 = plt.subplots(2, 2, sharex=\"col\", figsize=(12, 6))\n",
    "    axs1[0,0].plot(dtf.groupby('step').size())\n",
    "    h,xedge,yedge,_=axs1[1,0].hist2d(x=dtf['step'], y=dtf['trait_0'],\n",
    "                                     range=((0, num_gen), (0, 1)),\n",
    "                                     bins=(num_gen, 100), cmap='bone_r')\n",
    "    axs1[0, 1].pcolormesh(elevation)\n",
    "    axs1[0, 1].scatter(dtf['x'].loc[dtf['step']==max(dtf['step'])],\n",
    "                       dtf['y'].loc[dtf['step']==max(dtf['step'])],\n",
    "                       c=dtf['trait_0'].loc[dtf['step']==max(dtf['step'])],\n",
    "                       edgecolor='w',vmin=0, vmax=1)\n",
    "    h,xedge,yedge,_=axs1[1,1].hist2d(x=dtf['x'].loc[dtf['step']==max(dtf['step'])],\n",
    "                                     y=dtf['trait_0'].loc[dtf['step']==max(dtf['step'])],\n",
    "                                     range=((0, X.max()), (0, 1)),\n",
    "                                     bins=(25, 250), cmap='bone_r')\n",
    "    axs1[0, 1].yaxis.set_label_position(\"right\")\n",
    "    axs1[0, 1].yaxis.tick_right()\n",
    "    axs1[1, 1].yaxis.set_label_position(\"right\")\n",
    "    axs1[1, 1].yaxis.tick_right()\n",
    "    axs1[0, 1].set_ylabel('Y', weight='bold')\n",
    "    axs1[0, 0].set_ylabel('Abundance (No. ind)', weight='bold')\n",
    "    axs1[1, 1].set_ylabel('Trait', weight='bold')\n",
    "    axs1[1, 0].set_ylabel('Trait', weight='bold')\n",
    "    axs1[1, 1].set_xlabel('X', weight='bold')\n",
    "    axs1[1, 0].set_xlabel('Time (generations)', weight='bold')"
   ]
  },
  {
   "cell_type": "code",
   "execution_count": 4,
   "id": "1f3d58e1",
   "metadata": {},
   "outputs": [],
   "source": [
    "def toytree_plot(tree, ind_dtf):\n",
    "    \"\"\"\n",
    "    Plot of phylogenetic tree using library toytree and following the cookbook example \n",
    "    https://toytree.readthedocs.io/en/latest/\n",
    "    \n",
    "    Parameters\n",
    "    ----------\n",
    "    tree : class 'dendropy.tree'\n",
    "        Phylogenetic tree as class dendropy.tree\n",
    "    ind_dtf : class 'pandas.DataFrame'\n",
    "        Speciation model output with data for all individuals\n",
    "        \n",
    "    \"\"\"\n",
    "    ttree = toytree.tree(tree.as_string(schema='newick'))\n",
    "    # generate a distribution between 0 and 1 for each tip in the tree\n",
    "    points = np.linspace(0, 1, 50)\n",
    "    dists = {}\n",
    "    for tip in ttree.get_tip_labels():\n",
    "        trait_values = ind_dtf[ind_dtf.taxon_id==int(tip)].trait_0.values\n",
    "        if trait_values.size > 1:\n",
    "            kernel = sc.gaussian_kde(trait_values)                                 \n",
    "            dists[tip] = kernel(points)\n",
    "        else:\n",
    "            dists[tip] = None\n",
    "    # set up canvas for two panel plot\n",
    "    canvas = toyplot.Canvas(width=300, height=400)\n",
    "\n",
    "    # add tree to canvas\n",
    "    ax0 = canvas.cartesian(bounds=(50, 180, 50, 350), ymin=0, ymax=ttree.ntips, padding=15)\n",
    "    ttree.draw(axes=ax0, tip_labels=False)\n",
    "    ax0.show = False\n",
    "\n",
    "    # add histograms to canvas\n",
    "    ax1 = canvas.cartesian(bounds=(200, 275, 50, 350), ymin=0, ymax=ttree.ntips, padding=15)\n",
    "\n",
    "    # iterate from top to bottom (ntips to 0)\n",
    "    for tip in range(ttree.ntips)[::-1]:\n",
    "\n",
    "        # select a color for hist\n",
    "        color = toytree.colors[int((tip) / 10)]\n",
    "\n",
    "        # get tip name and get hist from dict\n",
    "        tipname = ttree.get_tip_labels()[tip]\n",
    "        probs = dists[tipname]\n",
    "        \n",
    "        if probs is not None:\n",
    "            \n",
    "            # fill histogram with slightly overlapping histograms\n",
    "            ax1.fill(\n",
    "                points, probs / probs.max() * 1.25,\n",
    "                baseline=[tip] * len(points),\n",
    "                style={\"fill\": color, \"stroke\": \"white\", \"stroke-width\": 0.5},\n",
    "                title=tipname,\n",
    "            )\n",
    "            # add horizontal line at base\n",
    "            ax1.hlines(tip, opacity=0.5, color=\"grey\", style={\"stroke-width\": 0.5})\n",
    "\n",
    "    # hide y axis, show x\n",
    "    ax1.y.show = False\n",
    "    ax1.x.label.text = \"Trait value\"\n",
    "    ax1.x.ticks.show = True"
   ]
  },
  {
   "cell_type": "markdown",
   "id": "5a193c8c",
   "metadata": {},
   "source": [
    "## Phylogeny for the speciation model without trait-mediated competition"
   ]
  },
  {
   "cell_type": "code",
   "execution_count": 5,
   "id": "12603d5e",
   "metadata": {},
   "outputs": [
    {
     "name": "stderr",
     "output_type": "stream",
     "text": [
      "/Users/acevedo/opt/anaconda3/envs/adascape-dev/lib/python3.10/site-packages/scipy/cluster/vq.py:603: UserWarning: One of the clusters is empty. Re-run kmeans with a different initialization.\n",
      "  warnings.warn(\"One of the clusters is empty. \"\n"
     ]
    }
   ],
   "source": [
    "ind_dtf1, elevation1, X1 = run_model(trait_comp=False)"
   ]
  },
  {
   "cell_type": "code",
   "execution_count": 6,
   "id": "ecd9b453",
   "metadata": {},
   "outputs": [
    {
     "data": {
      "text/html": [
       "<div>\n",
       "<style scoped>\n",
       "    .dataframe tbody tr th:only-of-type {\n",
       "        vertical-align: middle;\n",
       "    }\n",
       "\n",
       "    .dataframe tbody tr th {\n",
       "        vertical-align: top;\n",
       "    }\n",
       "\n",
       "    .dataframe thead th {\n",
       "        text-align: right;\n",
       "    }\n",
       "</style>\n",
       "<table border=\"1\" class=\"dataframe\">\n",
       "  <thead>\n",
       "    <tr style=\"text-align: right;\">\n",
       "      <th></th>\n",
       "      <th>step</th>\n",
       "      <th>time</th>\n",
       "      <th>dt</th>\n",
       "      <th>x</th>\n",
       "      <th>y</th>\n",
       "      <th>taxon_id</th>\n",
       "      <th>ancestor_id</th>\n",
       "      <th>n_offspring</th>\n",
       "      <th>fitness</th>\n",
       "      <th>trait_0</th>\n",
       "    </tr>\n",
       "  </thead>\n",
       "  <tbody>\n",
       "    <tr>\n",
       "      <th>0</th>\n",
       "      <td>0</td>\n",
       "      <td>0.0</td>\n",
       "      <td>0.0</td>\n",
       "      <td>244.174942</td>\n",
       "      <td>110.251531</td>\n",
       "      <td>1</td>\n",
       "      <td>0</td>\n",
       "      <td>8</td>\n",
       "      <td>0.321987</td>\n",
       "      <td>0.500000</td>\n",
       "    </tr>\n",
       "    <tr>\n",
       "      <th>1</th>\n",
       "      <td>0</td>\n",
       "      <td>0.0</td>\n",
       "      <td>0.0</td>\n",
       "      <td>95.048934</td>\n",
       "      <td>152.467702</td>\n",
       "      <td>1</td>\n",
       "      <td>0</td>\n",
       "      <td>8</td>\n",
       "      <td>0.932487</td>\n",
       "      <td>0.500000</td>\n",
       "    </tr>\n",
       "    <tr>\n",
       "      <th>2</th>\n",
       "      <td>0</td>\n",
       "      <td>0.0</td>\n",
       "      <td>0.0</td>\n",
       "      <td>230.811558</td>\n",
       "      <td>215.905324</td>\n",
       "      <td>1</td>\n",
       "      <td>0</td>\n",
       "      <td>10</td>\n",
       "      <td>0.405734</td>\n",
       "      <td>0.500000</td>\n",
       "    </tr>\n",
       "    <tr>\n",
       "      <th>3</th>\n",
       "      <td>0</td>\n",
       "      <td>0.0</td>\n",
       "      <td>0.0</td>\n",
       "      <td>65.423106</td>\n",
       "      <td>215.939418</td>\n",
       "      <td>1</td>\n",
       "      <td>0</td>\n",
       "      <td>5</td>\n",
       "      <td>0.751070</td>\n",
       "      <td>0.500000</td>\n",
       "    </tr>\n",
       "    <tr>\n",
       "      <th>4</th>\n",
       "      <td>0</td>\n",
       "      <td>0.0</td>\n",
       "      <td>0.0</td>\n",
       "      <td>79.774265</td>\n",
       "      <td>168.720328</td>\n",
       "      <td>1</td>\n",
       "      <td>0</td>\n",
       "      <td>5</td>\n",
       "      <td>0.853670</td>\n",
       "      <td>0.500000</td>\n",
       "    </tr>\n",
       "    <tr>\n",
       "      <th>...</th>\n",
       "      <td>...</td>\n",
       "      <td>...</td>\n",
       "      <td>...</td>\n",
       "      <td>...</td>\n",
       "      <td>...</td>\n",
       "      <td>...</td>\n",
       "      <td>...</td>\n",
       "      <td>...</td>\n",
       "      <td>...</td>\n",
       "      <td>...</td>\n",
       "    </tr>\n",
       "    <tr>\n",
       "      <th>22265</th>\n",
       "      <td>99</td>\n",
       "      <td>99.0</td>\n",
       "      <td>0.0</td>\n",
       "      <td>157.545379</td>\n",
       "      <td>47.339532</td>\n",
       "      <td>2553</td>\n",
       "      <td>2503</td>\n",
       "      <td>1</td>\n",
       "      <td>0.992118</td>\n",
       "      <td>0.662593</td>\n",
       "    </tr>\n",
       "    <tr>\n",
       "      <th>22266</th>\n",
       "      <td>99</td>\n",
       "      <td>99.0</td>\n",
       "      <td>0.0</td>\n",
       "      <td>179.181266</td>\n",
       "      <td>27.824310</td>\n",
       "      <td>2556</td>\n",
       "      <td>2506</td>\n",
       "      <td>1</td>\n",
       "      <td>0.962680</td>\n",
       "      <td>0.621488</td>\n",
       "    </tr>\n",
       "    <tr>\n",
       "      <th>22267</th>\n",
       "      <td>99</td>\n",
       "      <td>99.0</td>\n",
       "      <td>0.0</td>\n",
       "      <td>178.984264</td>\n",
       "      <td>116.579489</td>\n",
       "      <td>2542</td>\n",
       "      <td>2492</td>\n",
       "      <td>1</td>\n",
       "      <td>0.716535</td>\n",
       "      <td>0.949514</td>\n",
       "    </tr>\n",
       "    <tr>\n",
       "      <th>22268</th>\n",
       "      <td>99</td>\n",
       "      <td>99.0</td>\n",
       "      <td>0.0</td>\n",
       "      <td>243.683493</td>\n",
       "      <td>42.582969</td>\n",
       "      <td>2558</td>\n",
       "      <td>2508</td>\n",
       "      <td>1</td>\n",
       "      <td>0.918769</td>\n",
       "      <td>0.828686</td>\n",
       "    </tr>\n",
       "    <tr>\n",
       "      <th>22269</th>\n",
       "      <td>99</td>\n",
       "      <td>99.0</td>\n",
       "      <td>0.0</td>\n",
       "      <td>46.949800</td>\n",
       "      <td>146.199834</td>\n",
       "      <td>2518</td>\n",
       "      <td>2467</td>\n",
       "      <td>1</td>\n",
       "      <td>0.943972</td>\n",
       "      <td>0.305037</td>\n",
       "    </tr>\n",
       "  </tbody>\n",
       "</table>\n",
       "<p>22270 rows × 10 columns</p>\n",
       "</div>"
      ],
      "text/plain": [
       "       step  time   dt           x           y  taxon_id  ancestor_id  \\\n",
       "0         0   0.0  0.0  244.174942  110.251531         1            0   \n",
       "1         0   0.0  0.0   95.048934  152.467702         1            0   \n",
       "2         0   0.0  0.0  230.811558  215.905324         1            0   \n",
       "3         0   0.0  0.0   65.423106  215.939418         1            0   \n",
       "4         0   0.0  0.0   79.774265  168.720328         1            0   \n",
       "...     ...   ...  ...         ...         ...       ...          ...   \n",
       "22265    99  99.0  0.0  157.545379   47.339532      2553         2503   \n",
       "22266    99  99.0  0.0  179.181266   27.824310      2556         2506   \n",
       "22267    99  99.0  0.0  178.984264  116.579489      2542         2492   \n",
       "22268    99  99.0  0.0  243.683493   42.582969      2558         2508   \n",
       "22269    99  99.0  0.0   46.949800  146.199834      2518         2467   \n",
       "\n",
       "       n_offspring   fitness   trait_0  \n",
       "0                8  0.321987  0.500000  \n",
       "1                8  0.932487  0.500000  \n",
       "2               10  0.405734  0.500000  \n",
       "3                5  0.751070  0.500000  \n",
       "4                5  0.853670  0.500000  \n",
       "...            ...       ...       ...  \n",
       "22265            1  0.992118  0.662593  \n",
       "22266            1  0.962680  0.621488  \n",
       "22267            1  0.716535  0.949514  \n",
       "22268            1  0.918769  0.828686  \n",
       "22269            1  0.943972  0.305037  \n",
       "\n",
       "[22270 rows x 10 columns]"
      ]
     },
     "execution_count": 6,
     "metadata": {},
     "output_type": "execute_result"
    }
   ],
   "source": [
    "ind_dtf1"
   ]
  },
  {
   "cell_type": "code",
   "execution_count": 7,
   "id": "b2ecbed4",
   "metadata": {},
   "outputs": [
    {
     "data": {
      "image/png": "[encoded data removed]",
      "text/plain": [
       "<Figure size 864x432 with 4 Axes>"
      ]
     },
     "metadata": {
      "needs_background": "light"
     },
     "output_type": "display_data"
    }
   ],
   "source": [
    "plot_sol(ind_dtf1, elevation1, X1)"
   ]
  },
  {
   "cell_type": "code",
   "execution_count": 8,
   "id": "420da768",
   "metadata": {},
   "outputs": [
    {
     "data": {
      "text/html": [
       "<div>\n",
       "<style scoped>\n",
       "    .dataframe tbody tr th:only-of-type {\n",
       "        vertical-align: middle;\n",
       "    }\n",
       "\n",
       "    .dataframe tbody tr th {\n",
       "        vertical-align: top;\n",
       "    }\n",
       "\n",
       "    .dataframe thead th {\n",
       "        text-align: right;\n",
       "    }\n",
       "</style>\n",
       "<table border=\"1\" class=\"dataframe\">\n",
       "  <thead>\n",
       "    <tr style=\"text-align: right;\">\n",
       "      <th></th>\n",
       "      <th>time</th>\n",
       "      <th>taxon_id</th>\n",
       "      <th>ancestor_id</th>\n",
       "      <th>trait_0</th>\n",
       "      <th>abundance</th>\n",
       "      <th>node_type</th>\n",
       "    </tr>\n",
       "  </thead>\n",
       "  <tbody>\n",
       "    <tr>\n",
       "      <th>0</th>\n",
       "      <td>0.0</td>\n",
       "      <td>1</td>\n",
       "      <td>0</td>\n",
       "      <td>0.500000</td>\n",
       "      <td>10</td>\n",
       "      <td>root</td>\n",
       "    </tr>\n",
       "    <tr>\n",
       "      <th>1</th>\n",
       "      <td>1.0</td>\n",
       "      <td>2</td>\n",
       "      <td>1</td>\n",
       "      <td>0.497056</td>\n",
       "      <td>81</td>\n",
       "      <td>node</td>\n",
       "    </tr>\n",
       "    <tr>\n",
       "      <th>2</th>\n",
       "      <td>2.0</td>\n",
       "      <td>3</td>\n",
       "      <td>2</td>\n",
       "      <td>0.497222</td>\n",
       "      <td>88</td>\n",
       "      <td>node</td>\n",
       "    </tr>\n",
       "    <tr>\n",
       "      <th>3</th>\n",
       "      <td>3.0</td>\n",
       "      <td>4</td>\n",
       "      <td>3</td>\n",
       "      <td>0.494617</td>\n",
       "      <td>86</td>\n",
       "      <td>node</td>\n",
       "    </tr>\n",
       "    <tr>\n",
       "      <th>4</th>\n",
       "      <td>4.0</td>\n",
       "      <td>5</td>\n",
       "      <td>4</td>\n",
       "      <td>0.509961</td>\n",
       "      <td>86</td>\n",
       "      <td>node</td>\n",
       "    </tr>\n",
       "    <tr>\n",
       "      <th>...</th>\n",
       "      <td>...</td>\n",
       "      <td>...</td>\n",
       "      <td>...</td>\n",
       "      <td>...</td>\n",
       "      <td>...</td>\n",
       "      <td>...</td>\n",
       "    </tr>\n",
       "    <tr>\n",
       "      <th>2497</th>\n",
       "      <td>99.0</td>\n",
       "      <td>2554</td>\n",
       "      <td>2504</td>\n",
       "      <td>0.723075</td>\n",
       "      <td>4</td>\n",
       "      <td>leaf</td>\n",
       "    </tr>\n",
       "    <tr>\n",
       "      <th>2498</th>\n",
       "      <td>99.0</td>\n",
       "      <td>2555</td>\n",
       "      <td>2505</td>\n",
       "      <td>0.699582</td>\n",
       "      <td>4</td>\n",
       "      <td>leaf</td>\n",
       "    </tr>\n",
       "    <tr>\n",
       "      <th>2499</th>\n",
       "      <td>99.0</td>\n",
       "      <td>2556</td>\n",
       "      <td>2506</td>\n",
       "      <td>0.751013</td>\n",
       "      <td>4</td>\n",
       "      <td>leaf</td>\n",
       "    </tr>\n",
       "    <tr>\n",
       "      <th>2500</th>\n",
       "      <td>99.0</td>\n",
       "      <td>2557</td>\n",
       "      <td>2507</td>\n",
       "      <td>0.778593</td>\n",
       "      <td>9</td>\n",
       "      <td>leaf</td>\n",
       "    </tr>\n",
       "    <tr>\n",
       "      <th>2501</th>\n",
       "      <td>99.0</td>\n",
       "      <td>2558</td>\n",
       "      <td>2508</td>\n",
       "      <td>0.730604</td>\n",
       "      <td>4</td>\n",
       "      <td>leaf</td>\n",
       "    </tr>\n",
       "  </tbody>\n",
       "</table>\n",
       "<p>2502 rows × 6 columns</p>\n",
       "</div>"
      ],
      "text/plain": [
       "      time taxon_id ancestor_id   trait_0  abundance node_type\n",
       "0      0.0        1           0  0.500000         10      root\n",
       "1      1.0        2           1  0.497056         81      node\n",
       "2      2.0        3           2  0.497222         88      node\n",
       "3      3.0        4           3  0.494617         86      node\n",
       "4      4.0        5           4  0.509961         86      node\n",
       "...    ...      ...         ...       ...        ...       ...\n",
       "2497  99.0     2554        2504  0.723075          4      leaf\n",
       "2498  99.0     2555        2505  0.699582          4      leaf\n",
       "2499  99.0     2556        2506  0.751013          4      leaf\n",
       "2500  99.0     2557        2507  0.778593          9      leaf\n",
       "2501  99.0     2558        2508  0.730604          4      leaf\n",
       "\n",
       "[2502 rows x 6 columns]"
      ]
     },
     "execution_count": 8,
     "metadata": {},
     "output_type": "execute_result"
    }
   ],
   "source": [
    "taxon_lineage1 = ind_dtf1.ptree.extract_taxon_summary()\n",
    "taxon_lineage1"
   ]
  },
  {
   "cell_type": "code",
   "execution_count": null,
   "id": "2571b341",
   "metadata": {},
   "outputs": [],
   "source": [
    "tree1 = ind_dtf1.ptree.to_dendropy_tree()"
   ]
  },
  {
   "cell_type": "code",
   "execution_count": null,
   "id": "d1dcbc2e",
   "metadata": {},
   "outputs": [],
   "source": [
    "tree1.print_plot()"
   ]
  },
  {
   "cell_type": "code",
   "execution_count": null,
   "id": "02e569a2",
   "metadata": {},
   "outputs": [],
   "source": [
    "toytree_plot(tree1, ind_dtf1)"
   ]
  },
  {
   "cell_type": "markdown",
   "id": "2435f4ea",
   "metadata": {},
   "source": [
    "## Tree summary statistics "
   ]
  },
  {
   "cell_type": "markdown",
   "id": "a35b8844",
   "metadata": {},
   "source": [
    "Phylogenetic diversity (PD)"
   ]
  },
  {
   "cell_type": "code",
   "execution_count": null,
   "id": "f73b642f",
   "metadata": {},
   "outputs": [],
   "source": [
    "sum(tree1.calc_node_root_distances())"
   ]
  },
  {
   "cell_type": "code",
   "execution_count": null,
   "id": "e238351d",
   "metadata": {},
   "outputs": [],
   "source": [
    "pdm1=tree1.phylogenetic_distance_matrix()"
   ]
  },
  {
   "cell_type": "markdown",
   "id": "bf5c1440",
   "metadata": {},
   "source": [
    "Mean pairwise distance (MPD)"
   ]
  },
  {
   "cell_type": "code",
   "execution_count": null,
   "id": "92f370f6",
   "metadata": {},
   "outputs": [],
   "source": [
    "pdm1.mean_pairwise_distance()"
   ]
  },
  {
   "cell_type": "markdown",
   "id": "320ee130",
   "metadata": {},
   "source": [
    "Mean neighbor taxon distance (MNTD)"
   ]
  },
  {
   "cell_type": "code",
   "execution_count": null,
   "id": "f9adb5d4",
   "metadata": {},
   "outputs": [],
   "source": [
    "pdm1.mean_nearest_taxon_distance()"
   ]
  },
  {
   "cell_type": "markdown",
   "id": "8cb5e59e",
   "metadata": {},
   "source": [
    "Lineages through time (LTT)"
   ]
  },
  {
   "cell_type": "code",
   "execution_count": null,
   "id": "b260fc74",
   "metadata": {},
   "outputs": [],
   "source": [
    "time_steps1 = np.linspace(0, tree1.max_distance_from_root(), 50)\n",
    "ltt1=[tree1.num_lineages_at(t) for t in time_steps1]\n",
    "plt.plot(time_steps1, ltt1)\n",
    "plt.xlabel('Time')\n",
    "plt.ylabel('Number of Lineages')"
   ]
  },
  {
   "cell_type": "markdown",
   "id": "4b5b4fb7",
   "metadata": {},
   "source": [
    "## Phylogeny for the speciation model with trait-mediated competition"
   ]
  },
  {
   "cell_type": "code",
   "execution_count": null,
   "id": "a729b9c4",
   "metadata": {},
   "outputs": [],
   "source": [
    "ind_dtf2, elevation2, X2 = run_model(trait_comp=True)"
   ]
  },
  {
   "cell_type": "code",
   "execution_count": null,
   "id": "91e0f3ed",
   "metadata": {},
   "outputs": [],
   "source": [
    "ind_dtf2"
   ]
  },
  {
   "cell_type": "code",
   "execution_count": null,
   "id": "285ee2a3",
   "metadata": {},
   "outputs": [],
   "source": [
    "plot_sol(ind_dtf2, elevation2, X2)"
   ]
  },
  {
   "cell_type": "code",
   "execution_count": null,
   "id": "33cc3b2d",
   "metadata": {},
   "outputs": [],
   "source": [
    "taxon_lineage2 = ind_dtf2.ptree.extract_taxon_summary()\n",
    "taxon_lineage2"
   ]
  },
  {
   "cell_type": "code",
   "execution_count": null,
   "id": "2c56c706",
   "metadata": {},
   "outputs": [],
   "source": [
    "tree2 = ind_dtf2.ptree.to_dendropy_tree()"
   ]
  },
  {
   "cell_type": "code",
   "execution_count": null,
   "id": "d6e357ed",
   "metadata": {},
   "outputs": [],
   "source": [
    "tree2.print_plot()"
   ]
  },
  {
   "cell_type": "code",
   "execution_count": null,
   "id": "7612b53b",
   "metadata": {},
   "outputs": [],
   "source": [
    "toytree_plot(tree2, ind_dtf2)"
   ]
  },
  {
   "cell_type": "markdown",
   "id": "4b8d60df",
   "metadata": {},
   "source": [
    "## Tree summary statistics "
   ]
  },
  {
   "cell_type": "markdown",
   "id": "b8c91563",
   "metadata": {},
   "source": [
    "Phylogenetic diversity (PD)"
   ]
  },
  {
   "cell_type": "code",
   "execution_count": null,
   "id": "ce59a8f4",
   "metadata": {},
   "outputs": [],
   "source": [
    "sum(tree2.calc_node_root_distances())"
   ]
  },
  {
   "cell_type": "code",
   "execution_count": null,
   "id": "924f4fe6",
   "metadata": {},
   "outputs": [],
   "source": [
    "pdm2=tree2.phylogenetic_distance_matrix()"
   ]
  },
  {
   "cell_type": "markdown",
   "id": "cbc9bf1f",
   "metadata": {},
   "source": [
    "Mean pairwise distance (MPD)"
   ]
  },
  {
   "cell_type": "code",
   "execution_count": null,
   "id": "0fa5ac42",
   "metadata": {},
   "outputs": [],
   "source": [
    "pdm2.mean_pairwise_distance()"
   ]
  },
  {
   "cell_type": "markdown",
   "id": "ba835dcd",
   "metadata": {},
   "source": [
    "Mean neighbor taxon distance (MNTD)"
   ]
  },
  {
   "cell_type": "code",
   "execution_count": null,
   "id": "36b55b46",
   "metadata": {},
   "outputs": [],
   "source": [
    "pdm2.mean_nearest_taxon_distance()"
   ]
  },
  {
   "cell_type": "markdown",
   "id": "389dcc9b",
   "metadata": {},
   "source": [
    "Lineages through time (LTT)"
   ]
  },
  {
   "cell_type": "code",
   "execution_count": null,
   "id": "4ed36f10",
   "metadata": {},
   "outputs": [],
   "source": [
    "time_steps2 = np.linspace(0, tree2.max_distance_from_root(), 50)\n",
    "ltt2 = [tree2.num_lineages_at(t) for t in time_steps2]\n",
    "plt.plot(time_steps2, ltt2)\n",
    "plt.xlabel('Time')\n",
    "plt.ylabel('Number of Lineages')"
   ]
  },
  {
   "cell_type": "code",
   "execution_count": null,
   "id": "85dc87c7",
   "metadata": {},
   "outputs": [],
   "source": []
  },
  {
   "cell_type": "code",
   "execution_count": null,
   "id": "560870c5",
   "metadata": {},
   "outputs": [],
   "source": []
  }
 ],
 "metadata": {
  "kernelspec": {
   "display_name": "adascape-dev",
   "language": "python",
   "name": "adascape-dev"
  },
  "language_info": {
   "codemirror_mode": {
    "name": "ipython",
    "version": 3
   },
   "file_extension": ".py",
   "mimetype": "text/x-python",
   "name": "python",
   "nbconvert_exporter": "python",
   "pygments_lexer": "ipython3",
   "version": "3.10.5"
  }
 },
 "nbformat": 4,
 "nbformat_minor": 5
}
